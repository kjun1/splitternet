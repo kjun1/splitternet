{
 "cells": [
  {
   "cell_type": "code",
   "execution_count": 1,
   "id": "94b44040-24de-4b3c-9ec1-4541f03dbaf7",
   "metadata": {},
   "outputs": [],
   "source": [
    "import pandas as pd\n",
    "from pathlib import Path\n",
    "import numpy as np"
   ]
  },
  {
   "cell_type": "code",
   "execution_count": 2,
   "id": "d5c56747-5e27-484f-9b3c-e40a90b01524",
   "metadata": {},
   "outputs": [],
   "source": [
    "df = pd.read_csv(\"data04.csv\", index_col=0)\n",
    "df = df[~df[\"user\"].isin([\"licrum\", \"hosokawa\", \"koshiro\", \"stale032\", \"testtes\", \"yasu1025yist@gmail.com\", \"Ralphy_1105\", \"miminoya\"])]\n"
   ]
  },
  {
   "cell_type": "markdown",
   "id": "feb002c1-2d7f-4c03-96cb-271344c11f60",
   "metadata": {
    "tags": []
   },
   "source": [
    "# 実験df確認"
   ]
  },
  {
   "cell_type": "code",
   "execution_count": 3,
   "id": "a777c73a-622c-42ea-b642-5fc30da63b5c",
   "metadata": {
    "scrolled": true,
    "tags": []
   },
   "outputs": [
    {
     "data": {
      "text/plain": [
       "array(['yui1_2413', 'kanata0', 'yumebato', 'ayayan1204', 'pe1011',\n",
       "       'yutapon1967', 'trtrsbt', 'k0717', 'kuritaai1104', 'sdm89',\n",
       "       'chiyos', '57gvCis.6hd47', 'matsubatask', 'fgjj95fg9', 'Okkus.odd',\n",
       "       'riramohu', 'mikannkan', 'kintogaga_2023So', 'ranbt2943', 'abcd',\n",
       "       'chekineko', 'myu-2', 'kohcha', 'toge7188', 'fgf_1212', 'e1w9',\n",
       "       'yocchi0520', 'nyantakun5', 'ritchie.dw', 'idaha29', 'fumygo',\n",
       "       'kouhei1992', 'daobenzhimei27@gmail.com', 'cwu19', 'kouji',\n",
       "       'yaiko2', 'shobota', 'rikerin', 'rag_55', 'psych', 'emina',\n",
       "       'tenkamt02', 'SYHL24', 'mitubati555', 'ash4949', 'perunsa888',\n",
       "       'michiko0257', 'kei_0107', 'tokumei135', 'yellowstones', 'izumo',\n",
       "       'curiosities', 'hayate1144308', 'crowking', 'camui2370',\n",
       "       'satoh310310', 'psrnsr', 'shati', 'cfhm12', 'ruru0823',\n",
       "       'tennora@564', 't4ou5d', 'free00612', 'maida0493', 'Qoo',\n",
       "       'RubyLip', 'citron-maro', 'yusuke_n46', 'hirowing', 'nic',\n",
       "       'hamham', 'itsumi', 'cw5588', 'come_d846', 'ajustly998', 'yattaro',\n",
       "       'm-k', 'pukuripo', 'kos12', '????207', 'shisyou.lab', 'wen-xuan',\n",
       "       'Nicole_ZSZ', 'bobtaro', 'ririnariko', 'gunchan1', 'daifuku03',\n",
       "       '??????????', 'rssk', 'minami', 'freedommaturi', 'neuconmsi',\n",
       "       'take8bu', 'supershit666', 'kana3144', '@4415.aBhY', '?????????',\n",
       "       'momiyama', 'necoyamaokome', 'loyallord'], dtype=object)"
      ]
     },
     "execution_count": 3,
     "metadata": {},
     "output_type": "execute_result"
    }
   ],
   "source": [
    "df[\"user\"].unique()"
   ]
  },
  {
   "cell_type": "code",
   "execution_count": 4,
   "id": "949c33ee-7c1e-45a6-8dba-e184aad6245e",
   "metadata": {},
   "outputs": [
    {
     "data": {
      "text/plain": [
       "-1    6512\n",
       " 1    5073\n",
       " 0     416\n",
       "Name: label, dtype: int64"
      ]
     },
     "execution_count": 4,
     "metadata": {},
     "output_type": "execute_result"
    }
   ],
   "source": [
    "df[\"label\"].value_counts()"
   ]
  },
  {
   "cell_type": "markdown",
   "id": "8d90c78e-8543-4e59-8b21-0734a5214eec",
   "metadata": {},
   "source": [
    "# 性別データの連結"
   ]
  },
  {
   "cell_type": "code",
   "execution_count": 5,
   "id": "1a109674-a63d-4069-afa6-7ecabd8ff28c",
   "metadata": {},
   "outputs": [],
   "source": [
    "l = []\n",
    "for i in range(4):\n",
    "    df2 = pd.read_csv(f\"zikkendata/{i+1}.csv\", index_col=0)\n",
    "    df2 = df2.rename(columns={\"1. あなたの性別を入力してください\": \"gender\", \"2. あなたの年齢を入力してください\": \"old\", \"4. サイトで登録したアカウントIDを入力してください\": \"user\", \"4. サイトで登録した「ユーザー名」を入力してください\": \"user\"})\n",
    "    l.append(df2)\n",
    "df2 = pd.concat(l)\n",
    "df2 = df2[[\"gender\", \"old\", \"user\"]].replace('(.*)歳', r'\\1', regex=True)\n",
    "df2[\"old\"]=df2[\"old\"].astype(int)"
   ]
  },
  {
   "cell_type": "markdown",
   "id": "3a3bf2f2-8d21-4138-99f3-552efba1cd2b",
   "metadata": {},
   "source": [
    "## データ成型"
   ]
  },
  {
   "cell_type": "code",
   "execution_count": 6,
   "id": "932a1d12-a0f9-4506-b61a-f82b928abf35",
   "metadata": {},
   "outputs": [],
   "source": [
    "s1 = set(df[\"user\"].unique()) \n",
    "s2 = set(df2[\"user\"].unique())"
   ]
  },
  {
   "cell_type": "code",
   "execution_count": 7,
   "id": "7f1702f5-fa5f-4411-958c-1f9338962bf7",
   "metadata": {},
   "outputs": [],
   "source": [
    "b1,b2,b3,b4 = list(s1 - s2)"
   ]
  },
  {
   "cell_type": "code",
   "execution_count": 8,
   "id": "197c935f-6bcd-46d3-aa3d-29a62d84bb46",
   "metadata": {},
   "outputs": [],
   "source": [
    "df = df.replace(b1, '3JC9gBJs85z7_wX')\n",
    "df = df.replace(b2, 'ユウ207')\n",
    "df = df.replace(b3, '摩天楼さね')\n",
    "df = df.replace(b4, 'ただのこなつ')"
   ]
  },
  {
   "cell_type": "code",
   "execution_count": 9,
   "id": "d10d920e-2493-4b19-a96a-9c1431358851",
   "metadata": {},
   "outputs": [],
   "source": [
    "df = pd.merge(df, df2, on='user')"
   ]
  },
  {
   "cell_type": "code",
   "execution_count": 10,
   "id": "da7585cb-d265-4485-a917-a6a678881970",
   "metadata": {},
   "outputs": [
    {
     "data": {
      "text/plain": [
       "1    7200\n",
       "2    4801\n",
       "Name: gender, dtype: int64"
      ]
     },
     "execution_count": 10,
     "metadata": {},
     "output_type": "execute_result"
    }
   ],
   "source": [
    "df[\"gender\"].value_counts()"
   ]
  },
  {
   "cell_type": "markdown",
   "id": "26452bc4-04f1-4856-b17e-8cd92e751cec",
   "metadata": {},
   "source": [
    "# 年齢層の確認"
   ]
  },
  {
   "cell_type": "code",
   "execution_count": 11,
   "id": "0586647f-3811-4b55-a829-d30d93a4a361",
   "metadata": {},
   "outputs": [],
   "source": [
    "df1 = pd.read_csv(\"zikkendata/1.csv\", index_col=0)\n",
    "df1 = df1.rename(columns={\"1. あなたの性別を入力してください\": \"gender\", \"2. あなたの年齢を入力してください\": \"old\", \"4. サイトで登録したアカウントIDを入力してください\": \"user\", \"4. サイトで登録した「ユーザー名」を入力してください\": \"user\"})"
   ]
  },
  {
   "cell_type": "code",
   "execution_count": 12,
   "id": "41ed25af-95b1-4a8b-ba3d-1adcefb3eb14",
   "metadata": {},
   "outputs": [],
   "source": [
    "df2 = pd.read_csv(\"zikkendata/2.csv\", index_col=0)\n",
    "df2 = df2.rename(columns={\"1. あなたの性別を入力してください\": \"gender\", \"2. あなたの年齢を入力してください\": \"old\", \"4. サイトで登録したアカウントIDを入力してください\": \"user\", \"4. サイトで登録した「ユーザー名」を入力してください\": \"user\"})"
   ]
  },
  {
   "cell_type": "code",
   "execution_count": 13,
   "id": "f03e4bca-235c-480c-bb7f-98916feaf03c",
   "metadata": {},
   "outputs": [],
   "source": [
    "df3 = pd.read_csv(\"zikkendata/3.csv\", index_col=0)\n",
    "df3 = df3.rename(columns={\"1. あなたの性別を入力してください\": \"gender\", \"2. あなたの年齢を入力してください\": \"old\", \"4. サイトで登録したアカウントIDを入力してください\": \"user\", \"4. サイトで登録した「ユーザー名」を入力してください\": \"user\"})"
   ]
  },
  {
   "cell_type": "code",
   "execution_count": 14,
   "id": "8196d151-86f6-4478-b12d-f2fbc8ad02de",
   "metadata": {},
   "outputs": [],
   "source": [
    "df4 = pd.read_csv(\"zikkendata/4.csv\", index_col=0)\n",
    "df4 = df4.rename(columns={\"1. あなたの性別を入力してください\": \"gender\", \"2. あなたの年齢を入力してください\": \"old\", \"4. サイトで登録したアカウントIDを入力してください\": \"user\", \"4. サイトで登録した「ユーザー名」を入力してください\": \"user\"})"
   ]
  },
  {
   "cell_type": "code",
   "execution_count": 15,
   "id": "a3837580-723d-4658-97f4-7ec8ef1034d9",
   "metadata": {},
   "outputs": [],
   "source": [
    "df1 = df1[\"old\"].replace('33歳', '33').astype('int64')\n",
    "df2 = df2[\"old\"].replace('45歳', '45').astype('int64')\n",
    "df3 = df3[\"old\"].astype('int64')\n",
    "df4 = df4[\"old\"].replace('43歳', '43').replace(\"35歳\", \"35\").astype('int64')"
   ]
  },
  {
   "cell_type": "code",
   "execution_count": 16,
   "id": "b4f80679-9099-4ac4-9bf1-852bd4170e82",
   "metadata": {},
   "outputs": [],
   "source": [
    "df1 = df1.rename(\"1\")\n",
    "df2 = df2.rename(\"2\")\n",
    "df3 = df3.rename(\"3\")\n",
    "df4 = df4.rename(\"4\")"
   ]
  },
  {
   "cell_type": "code",
   "execution_count": 18,
   "id": "2a7bc120-cba1-4534-8f9b-befbf643365c",
   "metadata": {},
   "outputs": [],
   "source": [
    "df = pd.concat([df1, df2, df3, df4], axis=1)"
   ]
  },
  {
   "cell_type": "code",
   "execution_count": 20,
   "id": "5ee70fdf-e270-428d-8c52-a1b7fe7f7c4c",
   "metadata": {},
   "outputs": [
    {
     "data": {
      "text/plain": [
       "<AxesSubplot: >"
      ]
     },
     "execution_count": 20,
     "metadata": {},
     "output_type": "execute_result"
    },
    {
     "data": {
      "image/png": "[encoded data removed]",
      "text/plain": [
       "<Figure size 640x480 with 1 Axes>"
      ]
     },
     "metadata": {},
     "output_type": "display_data"
    }
   ],
   "source": [
    "df.plot.box()"
   ]
  }
 ],
 "metadata": {
  "kernelspec": {
   "display_name": "Python 3 (ipykernel)",
   "language": "python",
   "name": "python3"
  },
  "language_info": {
   "codemirror_mode": {
    "name": "ipython",
    "version": 3
   },
   "file_extension": ".py",
   "mimetype": "text/x-python",
   "name": "python",
   "nbconvert_exporter": "python",
   "pygments_lexer": "ipython3",
   "version": "3.8.10"
  }
 },
 "nbformat": 4,
 "nbformat_minor": 5
}
