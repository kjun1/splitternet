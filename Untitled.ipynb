{
 "cells": [
  {
   "cell_type": "code",
   "execution_count": 8,
   "id": "f1d4ddb5-1e55-49e6-a549-b73f6c0fe9b5",
   "metadata": {},
   "outputs": [],
   "source": [
    "from data.datamodule import JVSDataModule\n",
    "import os\n",
    "import torch"
   ]
  },
  {
   "cell_type": "code",
   "execution_count": 13,
   "id": "037a7830-41e8-426e-a03e-29203425681c",
   "metadata": {},
   "outputs": [],
   "source": [
    "d = JVSDataModule(data_type=\"mc\")\n",
    "d.setup(0)"
   ]
  },
  {
   "cell_type": "code",
   "execution_count": 14,
   "id": "ae444e2a-b1fc-4abc-916d-68024ccd6714",
   "metadata": {},
   "outputs": [
    {
     "name": "stdout",
     "output_type": "stream",
     "text": [
      "torch.Size([512, 1, 32, 32])\n"
     ]
    }
   ],
   "source": [
    "for i in d.train_dataloader():\n",
    "    print(i[0].shape)\n",
    "    break"
   ]
  }
 ],
 "metadata": {
  "kernelspec": {
   "display_name": "Python 3 (ipykernel)",
   "language": "python",
   "name": "python3"
  },
  "language_info": {
   "codemirror_mode": {
    "name": "ipython",
    "version": 3
   },
   "file_extension": ".py",
   "mimetype": "text/x-python",
   "name": "python",
   "nbconvert_exporter": "python",
   "pygments_lexer": "ipython3",
   "version": "3.8.10"
  }
 },
 "nbformat": 4,
 "nbformat_minor": 5
}
