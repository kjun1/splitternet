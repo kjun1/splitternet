{
 "cells": [
  {
   "cell_type": "code",
   "execution_count": 1,
   "id": "20220846-60f6-4eef-b998-7964ef3147ff",
   "metadata": {},
   "outputs": [
    {
     "name": "stderr",
     "output_type": "stream",
     "text": [
      "/usr/local/lib/python3.8/dist-packages/tqdm/auto.py:22: TqdmWarning: IProgress not found. Please update jupyter and ipywidgets. See https://ipywidgets.readthedocs.io/en/stable/user_install.html\n",
      "  from .autonotebook import tqdm as notebook_tqdm\n"
     ]
    }
   ],
   "source": [
    "import os\n",
    "import torch\n",
    "from data.dataset import JVSDataset"
   ]
  },
  {
   "cell_type": "code",
   "execution_count": 2,
   "id": "08c25467-1963-415a-b259-272e9d554bbd",
   "metadata": {},
   "outputs": [],
   "source": [
    "root = os.path.join(\"../\",  'jvs_r9y9_ver1')\n",
    "with open(root+ '/female_f0range.txt') as f:\n",
    "    lines = f.readlines()\n",
    "    FEMALE_SPEAKERS =  [i[0:6] for i in lines[1:]]\n",
    "#FEMALE_SPEAKERS = [FEMALE_SPEAKERS[0]]"
   ]
  },
  {
   "cell_type": "code",
   "execution_count": 3,
   "id": "9720d1ba-ee01-413c-9082-a381bb8eb49d",
   "metadata": {},
   "outputs": [
    {
     "data": {
      "text/plain": [
       "['jvs002',\n",
       " 'jvs004',\n",
       " 'jvs007',\n",
       " 'jvs008',\n",
       " 'jvs010',\n",
       " 'jvs014',\n",
       " 'jvs015',\n",
       " 'jvs016',\n",
       " 'jvs017',\n",
       " 'jvs018',\n",
       " 'jvs019',\n",
       " 'jvs024',\n",
       " 'jvs025',\n",
       " 'jvs026',\n",
       " 'jvs027',\n",
       " 'jvs029',\n",
       " 'jvs030',\n",
       " 'jvs035',\n",
       " 'jvs036',\n",
       " 'jvs038',\n",
       " 'jvs039',\n",
       " 'jvs040',\n",
       " 'jvs043',\n",
       " 'jvs051',\n",
       " 'jvs053',\n",
       " 'jvs055',\n",
       " 'jvs056',\n",
       " 'jvs057',\n",
       " 'jvs058',\n",
       " 'jvs059',\n",
       " 'jvs060',\n",
       " 'jvs061',\n",
       " 'jvs062',\n",
       " 'jvs063',\n",
       " 'jvs064',\n",
       " 'jvs065',\n",
       " 'jvs066',\n",
       " 'jvs067',\n",
       " 'jvs069',\n",
       " 'jvs072',\n",
       " 'jvs082',\n",
       " 'jvs083',\n",
       " 'jvs084',\n",
       " 'jvs085',\n",
       " 'jvs090',\n",
       " 'jvs091',\n",
       " 'jvs092',\n",
       " 'jvs093',\n",
       " 'jvs094',\n",
       " 'jvs095',\n",
       " 'jvs096']"
      ]
     },
     "execution_count": 3,
     "metadata": {},
     "output_type": "execute_result"
    }
   ],
   "source": [
    "FEMALE_SPEAKERS"
   ]
  },
  {
   "cell_type": "code",
   "execution_count": 4,
   "id": "aa5197f3-12f8-4c85-b1c7-5c09fcafa7b9",
   "metadata": {},
   "outputs": [],
   "source": [
    "dataset = JVSDataset(root, speakers=FEMALE_SPEAKERS, data_type=\"sp\", n_mels=36, chunk=40, width=20)"
   ]
  },
  {
   "cell_type": "code",
   "execution_count": null,
   "id": "4de37a1a-b58e-47a2-93d8-a60b9162924a",
   "metadata": {},
   "outputs": [
    {
     "data": {
      "text/plain": [
       "51"
      ]
     },
     "execution_count": 16,
     "metadata": {},
     "output_type": "execute_result"
    }
   ],
   "source": [
    "dataset[1][1].shape"
   ]
  },
  {
   "cell_type": "code",
   "execution_count": 6,
   "id": "6d17dfba-0891-48aa-b965-82e09249429f",
   "metadata": {},
   "outputs": [],
   "source": [
    "for i, x in enumerate(dataset):\n",
    "    torch.save(x, f\"data/world/{i}.pth\")"
   ]
  }
 ],
 "metadata": {
  "kernelspec": {
   "display_name": "Python 3 (ipykernel)",
   "language": "python",
   "name": "python3"
  },
  "language_info": {
   "codemirror_mode": {
    "name": "ipython",
    "version": 3
   },
   "file_extension": ".py",
   "mimetype": "text/x-python",
   "name": "python",
   "nbconvert_exporter": "python",
   "pygments_lexer": "ipython3",
   "version": "3.8.10"
  }
 },
 "nbformat": 4,
 "nbformat_minor": 5
}
