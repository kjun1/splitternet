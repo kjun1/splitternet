{
 "cells": [
  {
   "cell_type": "code",
   "execution_count": 15,
   "id": "17168367-c65d-4697-9ba1-54f12d4b0010",
   "metadata": {},
   "outputs": [],
   "source": [
    "import os\n",
    "import nnmnkwii.datasets.jvs\n",
    "from nnmnkwii.io import hts\n",
    "import torch\n",
    "from torch import nn\n",
    "from torch.utils.data import Dataset, DataLoader\n",
    "import torchaudio\n",
    "import pytorch_lightning as pl\n",
    "import itertools\n",
    "from matplotlib import pyplot as plt"
   ]
  },
  {
   "cell_type": "code",
   "execution_count": 19,
   "id": "64397f34-95fc-4484-b105-0ef62b00d36c",
   "metadata": {},
   "outputs": [],
   "source": [
    "from pytorch_lightning.utilities.parsing import AttributeDict"
   ]
  },
  {
   "cell_type": "code",
   "execution_count": 20,
   "id": "255e89e9-0679-4dc9-a2bd-080bb0b28042",
   "metadata": {},
   "outputs": [],
   "source": [
    "class SingleArgModel(pl.LightningModule):\n",
    "    def __init__(self, params):\n",
    "        super().__init__()\n",
    "        # manually assign single argument\n",
    "        self.save_hyperparameters(params)\n",
    "    def forward(self, *args, **kwargs):\n",
    "        pass"
   ]
  },
  {
   "cell_type": "code",
   "execution_count": 54,
   "id": "8d0afdf6-aaa0-4312-a48c-307aea173e8e",
   "metadata": {},
   "outputs": [],
   "source": [
    "test = AttributeDict({'key1': 2})"
   ]
  },
  {
   "cell_type": "code",
   "execution_count": 95,
   "id": "356283f6-b03f-40bc-a51b-40dc4d3163f7",
   "metadata": {},
   "outputs": [],
   "source": [
    "attr = AttributeDict({'number_of_layers': 2, 'key1': test, 'key2': 'abc'})"
   ]
  },
  {
   "cell_type": "code",
   "execution_count": 56,
   "id": "8837597d-3a75-40a2-8217-a8cac368c973",
   "metadata": {},
   "outputs": [
    {
     "data": {
      "text/plain": [
       "2"
      ]
     },
     "execution_count": 56,
     "metadata": {},
     "output_type": "execute_result"
    }
   ],
   "source": [
    "attr.key1.key1"
   ]
  },
  {
   "cell_type": "code",
   "execution_count": 96,
   "id": "51c5ec3d-3ef2-43d8-88b6-f25f1a301422",
   "metadata": {},
   "outputs": [],
   "source": [
    "class GLU(nn.Module):\n",
    "    def __init__(self):\n",
    "        super().__init__()\n",
    "    \n",
    "    def forward(x1, x2):\n",
    "        return x1 * nn.functional.sigmoid(x2)"
   ]
  },
  {
   "cell_type": "code",
   "execution_count": 148,
   "id": "340ce9e4-5dd2-429f-ad6d-9beb8879dbd8",
   "metadata": {},
   "outputs": [],
   "source": [
    "block_params = AttributeDict({\n",
    "    'layer': AttributeDict({\n",
    "        'name': None,\n",
    "        'params': AttributeDict(),\n",
    "    }),\n",
    "    'bn': AttributeDict({\n",
    "        'name': None,\n",
    "        'params': AttributeDict(),\n",
    "    }),\n",
    "    'lr': AttributeDict({\n",
    "        'name': None,\n",
    "        'params': AttributeDict(),\n",
    "    }),\n",
    "    'bn': AttributeDict({\n",
    "        'name': None,\n",
    "        'params': AttributeDict(),\n",
    "    }),\n",
    "})"
   ]
  },
  {
   "cell_type": "code",
   "execution_count": 162,
   "id": "d500b2fa-c99c-4b3e-95e8-139e67edbba9",
   "metadata": {},
   "outputs": [],
   "source": [
    "# UttrEnc setting\n",
    "\n",
    "NUM_LAYERS = 4\n",
    "\n",
    "params = AttributeDict({f\"block{i+1}\": AttributeDict({\n",
    "    'layer': AttributeDict({\n",
    "        'name': None,\n",
    "        'params': AttributeDict(),\n",
    "    }),\n",
    "    'bn': AttributeDict({\n",
    "        'name': None,\n",
    "        'params': AttributeDict(),\n",
    "    }),\n",
    "    'lr': AttributeDict({\n",
    "        'name': None,\n",
    "        'params': AttributeDict(),\n",
    "    }),\n",
    "    'bn': AttributeDict({\n",
    "        'name': None,\n",
    "        'params': AttributeDict(),\n",
    "    }),\n",
    "}) for i in range(NUM_LAYERS)})\n",
    "\n",
    "params.block1.layer.name = \"conv\"\n",
    "params.block2.layer.name = \"conv\"\n",
    "params.block3.layer.name = \"conv\"\n",
    "params.block4.layer.name = \"conv\"\n",
    "\n",
    "params.block1.layer.params.in_channels = 1\n",
    "params.block2.layer.params.in_channels = 16\n",
    "params.block3.layer.params.in_channels = 32\n",
    "params.block4.layer.params.in_channels = 32\n",
    "\n",
    "params.block1.layer.params.out_channels = params.block2.layer.params.in_channels\n",
    "params.block2.layer.params.out_channels = params.block3.layer.params.in_channels\n",
    "params.block3.layer.params.out_channels = params.block4.layer.params.in_channels\n",
    "params.block4.layer.params.out_channels = 16"
   ]
  },
  {
   "cell_type": "code",
   "execution_count": null,
   "id": "6f781635-0783-4ece-8558-d0d80c6dcdb7",
   "metadata": {},
   "outputs": [],
   "source": [
    "class Block(pl.LightningModule):\n",
    "    def __init__(self, params):\n",
    "        \"\"\"\n",
    "        layer\n",
    "            name\n",
    "                conv\n",
    "                tconv\n",
    "                linear\n",
    "            params\n",
    "        bn\n",
    "        lr\n",
    "            glu\n",
    "        drop\n",
    "        \"\"\"\n",
    "        super().__init__()\n",
    "        \n",
    "        if params.layer.name == \"conv\":\n",
    "            if params[\"lr\"] == \"glu\":\n",
    "                self.layer_a = nn.Conv2d(**params[\"layer\"][\"params\"])\n",
    "                self.layer_b = nn.Conv2d(**params[\"layer\"][\"params\"])\n",
    "            else:\n",
    "                self.layer = nn.Conv2d(**params[\"layer\"][\"params\"])\n",
    "        \n",
    "        \n",
    "        if params[\"bn\"] is None:\n",
    "            self.bn = torch.nn.Identity()\n",
    "        else:\n",
    "            if params[\"lr\"] == \"glu\":\n",
    "                self.bn_a = nn.BatchNorm2d(params[\"layer\"][\"params\"][\"out_channels\"])\n",
    "                self.bn_b = nn.BatchNorm2d(params[\"layer\"][\"params\"][\"out_channels\"])\n",
    "            else:\n",
    "                self.bn = nn.BatchNorm2d(params[\"layer\"][\"params\"][\"out_channels\"])\n",
    "        \n",
    "        if params[\"lr\"] is None:\n",
    "            self.lr = torch.nn.Identity()\n",
    "        elif params[\"lr\"] == \"glu\":\n",
    "            self.lr = GLU()\n",
    "    \n",
    "    def forward(self, x):\n",
    "        \n",
    "        if params.lr == \"glu\":\n",
    "            x1 = self.layer_a(x)\n",
    "            x2 = self.layer_b(x)\n",
    "            x1 = self.bn_a(x1)\n",
    "            x2 = self.bn_b(x2)\n",
    "            x = self.lr(x1, x2)\n",
    "        else:\n",
    "            x = self.layer(x)\n",
    "            x = self.bn(x)\n",
    "            x = self.lr(x)\n",
    "            \n",
    "        return x"
   ]
  },
  {
   "cell_type": "code",
   "execution_count": null,
   "id": "04d771e8-d380-45d0-9781-88ee0e7502cc",
   "metadata": {},
   "outputs": [],
   "source": [
    "class Model(pl.LightningModule):\n",
    "    def __init__(self, speechencoder, faceencoder, voicedencoder, speechdecoder, facedecoder):\n",
    "        super().__init__()\n",
    "        self.save_hyperparameters()\n",
    "        self.speechencoder = nn.ModuleDict({f\"Block{i+1}\": Block(params[f'layer{i+1}']) for i in range(4)})"
   ]
  },
  {
   "cell_type": "code",
   "execution_count": null,
   "id": "363352ea-9532-4019-9e77-fa60419a4896",
   "metadata": {},
   "outputs": [],
   "source": [
    "a = Model(params)"
   ]
  },
  {
   "cell_type": "code",
   "execution_count": null,
   "id": "7d680506-c825-4f07-8992-cc631ad4ee0f",
   "metadata": {},
   "outputs": [
    {
     "data": {
      "text/plain": [
       "Model(\n",
       "  (Encoder): ModuleDict(\n",
       "    (BLock1): Block(\n",
       "      (layer_a): Conv2d(1, 8, kernel_size=(3, 9), stride=(2, 2), padding=(1, 3))\n",
       "      (layer_b): Conv2d(1, 8, kernel_size=(3, 9), stride=(2, 2), padding=(1, 3))\n",
       "      (bn_a): BatchNorm2d(8, eps=1e-05, momentum=0.1, affine=True, track_running_stats=True)\n",
       "      (bn_b): BatchNorm2d(8, eps=1e-05, momentum=0.1, affine=True, track_running_stats=True)\n",
       "      (lr): GLU()\n",
       "    )\n",
       "    (BLock2): Block(\n",
       "      (layer_a): Conv2d(1, 8, kernel_size=(3, 9), stride=(2, 2), padding=(1, 3))\n",
       "      (layer_b): Conv2d(1, 8, kernel_size=(3, 9), stride=(2, 2), padding=(1, 3))\n",
       "      (bn_a): BatchNorm2d(8, eps=1e-05, momentum=0.1, affine=True, track_running_stats=True)\n",
       "      (bn_b): BatchNorm2d(8, eps=1e-05, momentum=0.1, affine=True, track_running_stats=True)\n",
       "      (lr): GLU()\n",
       "    )\n",
       "    (BLock3): Block(\n",
       "      (layer_a): Conv2d(1, 8, kernel_size=(3, 9), stride=(2, 2), padding=(1, 3))\n",
       "      (layer_b): Conv2d(1, 8, kernel_size=(3, 9), stride=(2, 2), padding=(1, 3))\n",
       "      (bn_a): BatchNorm2d(8, eps=1e-05, momentum=0.1, affine=True, track_running_stats=True)\n",
       "      (bn_b): BatchNorm2d(8, eps=1e-05, momentum=0.1, affine=True, track_running_stats=True)\n",
       "      (lr): GLU()\n",
       "    )\n",
       "    (BLock4): Block(\n",
       "      (layer_a): Conv2d(1, 8, kernel_size=(3, 9), stride=(2, 2), padding=(1, 3))\n",
       "      (layer_b): Conv2d(1, 8, kernel_size=(3, 9), stride=(2, 2), padding=(1, 3))\n",
       "      (bn_a): BatchNorm2d(8, eps=1e-05, momentum=0.1, affine=True, track_running_stats=True)\n",
       "      (bn_b): BatchNorm2d(8, eps=1e-05, momentum=0.1, affine=True, track_running_stats=True)\n",
       "      (lr): GLU()\n",
       "    )\n",
       "  )\n",
       ")"
      ]
     },
     "execution_count": 139,
     "metadata": {},
     "output_type": "execute_result"
    }
   ],
   "source": [
    "a"
   ]
  },
  {
   "cell_type": "code",
   "execution_count": 48,
   "id": "53606a9b-93b8-4301-a692-1fae4f8cc819",
   "metadata": {},
   "outputs": [],
   "source": [
    "a = SingleArgModel(params=attr)"
   ]
  },
  {
   "cell_type": "code",
   "execution_count": 49,
   "id": "ee20a179-386f-4df8-b1bd-2430c78b1bd3",
   "metadata": {},
   "outputs": [
    {
     "name": "stdout",
     "output_type": "stream",
     "text": [
      "1\n",
      "abc\n"
     ]
    }
   ],
   "source": [
    "for i in range(a.hparams.number_of_layers):\n",
    "    print(a.hparams[\"key{}\".format(i+1)])"
   ]
  }
 ],
 "metadata": {
  "kernelspec": {
   "display_name": "Python 3 (ipykernel)",
   "language": "python",
   "name": "python3"
  },
  "language_info": {
   "codemirror_mode": {
    "name": "ipython",
    "version": 3
   },
   "file_extension": ".py",
   "mimetype": "text/x-python",
   "name": "python",
   "nbconvert_exporter": "python",
   "pygments_lexer": "ipython3",
   "version": "3.8.10"
  }
 },
 "nbformat": 4,
 "nbformat_minor": 5
}
